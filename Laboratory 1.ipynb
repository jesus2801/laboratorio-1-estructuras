{
  "cells": [
    {
      "cell_type": "markdown",
      "source": "",
      "metadata": {
        "formattedRanges": [],
        "cell_id": "9c7f4afd060a4db3bdb0f4fdbd3ca167",
        "deepnote_cell_type": "text-cell-p"
      },
      "block_group": "9c7f4afd060a4db3bdb0f4fdbd3ca167"
    },
    {
      "cell_type": "markdown",
      "source": "# Laboratorio 1",
      "metadata": {
        "formattedRanges": [],
        "cell_id": "50ed868d099e4a98a1bc0e8ded056c60",
        "deepnote_cell_type": "text-cell-h1"
      },
      "block_group": "50ed868d099e4a98a1bc0e8ded056c60"
    },
    {
      "cell_type": "markdown",
      "source": "El siguiente notebook corresponde al desarrollo del laboratorio 1. Cada sección de código está totalmente comentada de manera que el funcionamiento sea entendible y eficiente para la persona el lector.",
      "metadata": {
        "formattedRanges": [],
        "cell_id": "bb730a5ab0864f7eaf54e0c782da4111",
        "deepnote_cell_type": "text-cell-p"
      },
      "block_group": "bb730a5ab0864f7eaf54e0c782da4111"
    },
    {
      "cell_type": "markdown",
      "source": "### Integrantes:",
      "metadata": {
        "formattedRanges": [],
        "cell_id": "3b23e82d6557472cbe1c0b12cf532cfe",
        "deepnote_cell_type": "text-cell-h3"
      },
      "block_group": "3b23e82d6557472cbe1c0b12cf532cfe"
    },
    {
      "cell_type": "markdown",
      "source": "- Jesús David García Vargas - 2445",
      "metadata": {
        "formattedRanges": [],
        "cell_id": "5f7b36a5970941fea9f6a3d6c1d91a48",
        "deepnote_cell_type": "text-cell-bullet"
      },
      "block_group": "5f7b36a5970941fea9f6a3d6c1d91a48"
    },
    {
      "cell_type": "markdown",
      "source": "- Juan Felipe Santos Rodriguez - 2445",
      "metadata": {
        "formattedRanges": [],
        "cell_id": "5086ca237b344f38adc34e3d29b6f3a7",
        "deepnote_cell_type": "text-cell-bullet"
      },
      "block_group": "1be436d028754d6bbd233307a69c16b2"
    },
    {
      "cell_type": "markdown",
      "source": "- Brayan de Jesús Cantillo Orozco - 2445",
      "metadata": {
        "formattedRanges": [],
        "cell_id": "cbf0ad1b77f04e59aa860f817d5d9772",
        "deepnote_cell_type": "text-cell-bullet"
      },
      "block_group": "b0bc4c7ed19f4c9f934793effa7156b0"
    },
    {
      "cell_type": "markdown",
      "source": "",
      "metadata": {
        "formattedRanges": [],
        "cell_id": "a7f2800ce0c04d7cbbdd35bd0776a252",
        "deepnote_cell_type": "text-cell-p"
      },
      "block_group": "e86e053297d846b8b2a5409851a07c5e"
    },
    {
      "cell_type": "markdown",
      "source": "Nombre librería: funcionamiento o propósito de la librería.",
      "metadata": {
        "formattedRanges": [
          {
            "type": "marks",
            "marks": {
              "bold": true
            },
            "toCodePoint": 16,
            "fromCodePoint": 0
          }
        ],
        "cell_id": "77799dab07554cd99ed3b7182b569b86",
        "deepnote_cell_type": "text-cell-p"
      },
      "block_group": "3ed7e9172d75452781e271018211da8e"
    },
    {
      "cell_type": "markdown",
      "source": "Nombre librería: funcionamiento o propósito de la librería.",
      "metadata": {
        "formattedRanges": [
          {
            "type": "marks",
            "marks": {
              "bold": true
            },
            "toCodePoint": 16,
            "fromCodePoint": 0
          }
        ],
        "cell_id": "8985bdf7f0e24f54923014b4132fdc17",
        "deepnote_cell_type": "text-cell-p"
      },
      "block_group": "3ed7e9172d75452781e271018211da8e"
    },
    {
      "cell_type": "markdown",
      "source": "Nombre librería: funcionamiento o propósito de la librería.",
      "metadata": {
        "formattedRanges": [
          {
            "type": "marks",
            "marks": {
              "bold": true
            },
            "toCodePoint": 16,
            "fromCodePoint": 0
          }
        ],
        "cell_id": "6cbb49d72fbe4bfe8b4f2935cf6e815e",
        "deepnote_cell_type": "text-cell-p"
      },
      "block_group": "3ed7e9172d75452781e271018211da8e"
    },
    {
      "cell_type": "code",
      "source": "#importamos las librerías necesarias",
      "metadata": {
        "source_hash": "8f1eb18c",
        "execution_start": 1694320750478,
        "execution_millis": 7,
        "deepnote_to_be_reexecuted": false,
        "cell_id": "dee6bef6210e4cdfb1073aefe49ed2fc",
        "deepnote_cell_type": "code"
      },
      "outputs": [],
      "execution_count": 1,
      "block_group": "dee6bef6210e4cdfb1073aefe49ed2fc"
    },
    {
      "cell_type": "markdown",
      "source": "Comentarios...",
      "metadata": {
        "formattedRanges": [],
        "cell_id": "ff377ed9769c4355bb54dc9eeed7d992",
        "deepnote_cell_type": "text-cell-p"
      },
      "block_group": "ff377ed9769c4355bb54dc9eeed7d992"
    },
    {
      "cell_type": "code",
      "source": "#Leer el CSV preferiblemente con pandas",
      "metadata": {
        "source_hash": "5081bb64",
        "execution_start": 1694320750501,
        "execution_millis": 18,
        "deepnote_to_be_reexecuted": false,
        "cell_id": "e2bc0b426cee4bcaa6f7a890dde69616",
        "deepnote_cell_type": "code"
      },
      "outputs": [],
      "execution_count": 2,
      "block_group": "e2bc0b426cee4bcaa6f7a890dde69616"
    },
    {
      "cell_type": "markdown",
      "source": "Comentarios...",
      "metadata": {
        "formattedRanges": [],
        "cell_id": "2e2a74f86a714f7f84117d159c9365dc",
        "deepnote_cell_type": "text-cell-p"
      },
      "block_group": "2e2a74f86a714f7f84117d159c9365dc"
    },
    {
      "cell_type": "code",
      "source": "class Row (object):\n    title: str\n    department: str\n    city: str\n    property_type: str\n    latitude: float\n    longitude: float\n    surface_total: int\n    surface_covered: int\n    bedrooms: int\n    bathrooms: int\n    operation_type: str\n    price: int\n\n    # Constructor en donde inicializamos cada variable de las filas del dataset.\n    def __init__ (self, title: str, department: str, city: str, property_type: str, \n    latitude: float, longitude: float, surface_total: int, surface_covered: int, \n    bedrooms: int, bathrooms: int, operation_type: str, price: int):\n        title = self.title\n        department = self.department\n        city = self.city\n        property_type = self.property_type\n        latitude = self.latitude\n        longitude = self.longitude\n        surface_total = self.surface_total\n        surface_covered = self.surface_covered\n        bedrooms = self.bedrooms\n        bathrooms = self.bathrooms\n        operation_type = self.operation_type\n        price = self.price",
      "metadata": {
        "source_hash": "a7e29bdf",
        "execution_start": 1694320750503,
        "execution_millis": 16,
        "deepnote_to_be_reexecuted": false,
        "cell_id": "2be6f8d41b3e4ee1b96dedc8026aa809",
        "deepnote_cell_type": "code"
      },
      "outputs": [
        {
          "output_type": "error",
          "ename": "IndentationError",
          "evalue": "expected an indented block (2054504143.py, line 4)",
          "traceback": [
            "\u001b[0;36m  Cell \u001b[0;32mIn [8], line 4\u001b[0;36m\u001b[0m\n\u001b[0;31m    pass\u001b[0m\n\u001b[0m    ^\u001b[0m\n\u001b[0;31mIndentationError\u001b[0m\u001b[0;31m:\u001b[0m expected an indented block\n"
          ]
        }
      ],
      "execution_count": 3,
      "block_group": "2be6f8d41b3e4ee1b96dedc8026aa809"
    },
    {
      "cell_type": "code",
      "source": "class Node(object):\n    metric: float\n    data: Row\n    left: \"Node\"\n    right: \"Node\"\n    height: int\n\n    # Constructor para inicializar las propiedades del nodo.\n    def __init__(self, data):\n        self.data = data\n        self.left = None\n        self.right = None\n        self.height = 1\n        self.metric = self.data.price / self.data.surface_total\n\n    # función para generar mapa según latitud y longitud del nodo\n    # usaremos alguna librería o la API de Google Maps\n    def locate (self):\n        pass",
      "metadata": {
        "source_hash": "865948f7",
        "execution_start": 1694320750503,
        "execution_millis": 17,
        "deepnote_to_be_reexecuted": false,
        "cell_id": "6f94065265a342f4b34f9fd6b4754e5d",
        "deepnote_cell_type": "code"
      },
      "outputs": [
        {
          "output_type": "error",
          "ename": "NameError",
          "evalue": "name 'Node' is not defined",
          "traceback": [
            "\u001b[0;31m---------------------------------------------------------------------------\u001b[0m",
            "\u001b[0;31mNameError\u001b[0m                                 Traceback (most recent call last)",
            "Cell \u001b[0;32mIn [4], line 1\u001b[0m\n\u001b[0;32m----> 1\u001b[0m \u001b[38;5;28;01mclass\u001b[39;00m \u001b[38;5;21;01mNode\u001b[39;00m(\u001b[38;5;28mobject\u001b[39m):\n\u001b[1;32m      2\u001b[0m     metric: \u001b[38;5;28mfloat\u001b[39m\n\u001b[1;32m      3\u001b[0m     data: Row\n",
            "Cell \u001b[0;32mIn [4], line 4\u001b[0m, in \u001b[0;36mNode\u001b[0;34m()\u001b[0m\n\u001b[1;32m      2\u001b[0m metric: \u001b[38;5;28mfloat\u001b[39m\n\u001b[1;32m      3\u001b[0m data: Row\n\u001b[0;32m----> 4\u001b[0m left: \u001b[43mNode\u001b[49m\n\u001b[1;32m      5\u001b[0m right: Node\n\u001b[1;32m      6\u001b[0m height: \u001b[38;5;28mint\u001b[39m\n",
            "\u001b[0;31mNameError\u001b[0m: name 'Node' is not defined"
          ]
        }
      ],
      "execution_count": 4,
      "block_group": "6f94065265a342f4b34f9fd6b4754e5d"
    },
    {
      "cell_type": "code",
      "source": "#Definir la clase de Arbol...\n# Método para mostrar (graphviz)\n# Python code to delete a node in AVL tree\n# Generic tree node class\n \nclass Tree(object):\n    # Obtener el sucesor de un nodo dado.\n    def __getSuccessor(self, node: Node):\n        node = root.right\n        while node is not None:\n            node = node.left\n        return node\n\n    # Obtener la altura de un nodo dado.\n    def __getHeight(self, root: Node):\n        if not root:\n            return 0\n        return root.height\n \n    # Obtener el factor de balanceo de un nodo dado.\n    def getBalance(self, root: Node):\n        if not root:\n            return 0\n        return self.__getHeight(root.right) - self.__getHeight(root.left)\n\n    # Rotación simple izquierda.\n    def __leftRotate(self, z):\n        aux = node.right\n\n        # Ejecutamos la rotación.\n        node.right = aux.left;\n        aux.left = node;\n\n        # Actualizar alturas.\n        node.height = 1 + max(self.__getHeight(node.left), self.__getHeight(node.right))\n        aux.height = 1 + max(self.__getHeight(aux.left), self.__getHeight(aux.right))\n \n        # Retornamos la nueva raíz.\n        return aux\n \n    # Rotación simple derecha.\n    def __rightRotate(self, node):\n        aux = node.left\n \n        # Ejecutamos la rotación.\n        node.left = aux.right;\n        node.right = node;  \n \n        # Actualizamos las alturas.\n        node.height = 1 + max(self.__getHeight(node.left), self.__getHeight(node.right))\n        aux.height = 1 + max(self.__getHeight(aux.left), self.__getHeight(aux.right))\n \n        # Retornamos la nueva raíz.\n        return aux\n\n    # Insert node\n    def insert(self, root: Node, data: Row) -> Node:\n        # si no hay raíz, retornamos el nodo que sería la nueva raíz.\n        if not root:\n            return Node(data)\n        # Si la métrica actual es menor a la del nodo actual, pasamos a la izquierda.\n        elif (data.price / data.surface_total) < root.metric:\n            root.left = self.insert(root.left, data)\n        # Si la métrica actual es mayor a la del nodo actual, pasamos a la derecha.\n        else:\n            root.right = self.insert(root.right, data)\n \n        # Actualizamos la altura del nodo.\n        root.height = 1 + max(self.__getHeight(root.left), self.__getHeight(root.right))\n \n        # Obtenemos el factor de balanceo.\n        balance = self.__getBalance(root)\n \n        # Si el nodo no está balanceado, revisamos cada uno de los 4 casos:\n        # Rotación simple derecha.\n        if balance < -1 and (data.price / data.surface_total) < root.left.metric:\n            return self.__rightRotate(root)\n \n        # Rotación simple izquierda.\n        if balance > 1 and (data.price / data.surface_total) > root.right.metric:\n            return self.__leftRotate(root)\n \n        # Rotación doble izquierda derecha.\n        if balance < -1 and (data.price / data.surface_total) > root.left.metric:\n            root.left = self.__leftRotate(root.left)\n            return self.__rightRotate(root)\n \n        # Rotación doble derecha izquierda.\n        if balance > 1 and (data.price / data.surface_total) < root.right.metric:\n            root.right = self.__rightRotate(root.right)\n            return self.__leftRotate(root)\n \n        return root\n \n    # Eliminar nodo\n    def delete(self, root: Node, metric: float) -> Node:\n        # Si no hay raíz, retornamos el puntero vacío.\n        if not root:\n            return root\n        # Si la métrica es menor a la actual, nos vamos a la izquierda. \n        elif metric < root.metric:\n            root.left = self.delete(root.left, metric)\n        # Si la métrica es mayor a la actual nos vamos a la derecha.\n        elif metric > root.metric:\n            root.right = self.delete(root.right, metric)\n        #Si la métrica es la misma y el nodo actual si existe.\n        else:\n            #Validamos los casos en los que el hijo izquierdo o derecho no existan.\n            if root.left is None:\n                temp = root.right\n                root = None\n                return temp\n \n            elif root.right is None:\n                temp = root.left\n                root = None\n                return temp\n \n            # Obtenemos el sucesor del nodo actual.\n            temp = self.__getSuccessor(root)\n            root.metric = temp.metric\n            root.right = self.delete(root.right, temp.metric)\n \n        # Si el arbol solo tiene un nodo, lo retornamos.\n        if root is None:\n            return root\n \n        # Actualizamos la altura del nodo.\n        root.height = 1 + max(self.__getHeight(root.left), self.__getHeight(root.right))\n \n        # Obtenemos el factor de balanceo.\n        balance = self.__getBalance(root)\n \n        # Si el arbol no está balanceado, aplicamos uno de los 4 casos:\n        # Rotación simple derecha.\n        if balance < -1 and self.__getBalance(root.left) <= 0:\n            return self.__rightRotate(root)\n \n        # Rotación simple izquierda.\n        if balance > 1 and self.__getBalance(root.right) >= 0:\n            return self.__leftRotate(root)\n \n        # Rotación doble izquierda derecha.\n        if balance < -1 and self.__getBalance(root.left) > 0:\n            root.left = self.__leftRotate(root.left)\n            return self.__rightRotate(root)\n \n        # Rotación derecha izquierda.\n        if balance > 1 and self.__getBalance(root.right) < 0:\n            root.right = self.__rightRotate(root.right)\n            return self.__leftRotate(root)\n \n        return root\n    \n    # buscar un nodo utilizando la métrica dada\n    # query será un diccionario del tipo { [campo]: [valor, comparador (\"=\" | \">\" | \"<\" | \">=\" | \"<=\")] }\n    # Ejemplo: {\"city\": [\"Barranquilla\", \"=\"], \"bedrooms\": [2, \">\"]}\n    def search(query) -> Node:\n        #Validar que la entrada tenga el formato válido\n        # * las claves solo pueden tener nombres de campos del dataset\n        # * los valores tienen que ser de tipo lista y tener exactamente 2 elmentos\n        # * los comparadores solo pueden ser: \"=\" | \">\" | \"<\" | \">=\" | \"<=\"\n\n        # Buscar el nodo y retornarlo.\n        pass\n\n    def traverse():\n        # Mostrar el recorrido por niveles del árbol (de manera recursiva)\n        pass\n\n    # Graficar el arbol completo con la librería de graphviz\n    def graph():\n        pass\n    \n",
      "metadata": {
        "source_hash": "178ba3b7",
        "execution_start": 1694320750505,
        "execution_millis": 17,
        "deepnote_to_be_reexecuted": false,
        "cell_id": "c856d9fd0fd24af9b24e329efb50b455",
        "deepnote_cell_type": "code"
      },
      "outputs": [],
      "execution_count": 5,
      "block_group": "c856d9fd0fd24af9b24e329efb50b455"
    },
    {
      "cell_type": "markdown",
      "source": "Comentarios...",
      "metadata": {
        "formattedRanges": [],
        "cell_id": "0b2bc7bdcd8f44f5ae0d78dad26f27d3",
        "deepnote_cell_type": "text-cell-p"
      },
      "block_group": "0b2bc7bdcd8f44f5ae0d78dad26f27d3"
    },
    {
      "cell_type": "code",
      "source": "class Utils(object):\n    # obtener el nivel de un nodo.\n    def level():\n        pass\n\n    # Encontrar el padre del nodo.\n    def father (self):\n        pass\n\n    # Encontrar el abuelo del nodo.\n    def grandfather (self):\n        pass\n\n    # Encontrar el tío del nodo.\n    def uncle(self):\n        pass",
      "metadata": {
        "source_hash": "6468424a",
        "execution_start": 1694320750516,
        "execution_millis": 10,
        "deepnote_to_be_reexecuted": false,
        "cell_id": "7109470fad1347b495a1d01aaa86e154",
        "deepnote_cell_type": "code"
      },
      "outputs": [
        {
          "output_type": "error",
          "ename": "TypeError",
          "evalue": "__str__ returned non-string (type int)",
          "traceback": [
            "\u001b[0;31m---------------------------------------------------------------------------\u001b[0m",
            "\u001b[0;31mTypeError\u001b[0m                                 Traceback (most recent call last)",
            "Cell \u001b[0;32mIn [6], line 6\u001b[0m\n\u001b[1;32m      1\u001b[0m \u001b[38;5;66;03m#obtener el nivel de un nodo\u001b[39;00m\n\u001b[1;32m      2\u001b[0m \u001b[38;5;66;03m#obtener el factor de balanceo del nodo.\u001b[39;00m\n\u001b[1;32m      3\u001b[0m \u001b[38;5;66;03m#Encontrar el padre del nodo\u001b[39;00m\n\u001b[1;32m      4\u001b[0m \u001b[38;5;66;03m#Encontrar el tíoo del nodo\u001b[39;00m\n\u001b[1;32m      5\u001b[0m n \u001b[38;5;241m=\u001b[39m Node(\u001b[38;5;124m\"\u001b[39m\u001b[38;5;124mhola\u001b[39m\u001b[38;5;124m\"\u001b[39m);\n\u001b[0;32m----> 6\u001b[0m \u001b[38;5;28;43mprint\u001b[39;49m\u001b[43m \u001b[49m\u001b[43m(\u001b[49m\u001b[43mn\u001b[49m\u001b[43m)\u001b[49m\n",
            "\u001b[0;31mTypeError\u001b[0m: __str__ returned non-string (type int)"
          ]
        }
      ],
      "execution_count": 6,
      "block_group": "7109470fad1347b495a1d01aaa86e154"
    },
    {
      "cell_type": "markdown",
      "source": "<a style='text-decoration:none;line-height:16px;display:flex;color:#5B5B62;padding:10px;justify-content:end;' href='https://deepnote.com?utm_source=created-in-deepnote-cell&projectId=5a6aa858-3dd7-43be-98c5-49e544ecec34' target=\"_blank\">\n<img alt='Created in deepnote.com' style='display:inline;max-height:16px;margin:0px;margin-right:7.5px;' src='data:image/svg+xml;base64,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' > </img>\nCreated in <span style='font-weight:600;margin-left:4px;'>Deepnote</span></a>",
      "metadata": {
        "created_in_deepnote_cell": true,
        "deepnote_cell_type": "markdown"
      }
    }
  ],
  "nbformat": 4,
  "nbformat_minor": 0,
  "metadata": {
    "deepnote": {},
    "orig_nbformat": 2,
    "deepnote_notebook_id": "f39c3c47598e444196d44d3f06df097d",
    "deepnote_persisted_session": {
      "createdAt": "2023-09-10T02:31:27.200Z"
    },
    "deepnote_execution_queue": []
  }
}