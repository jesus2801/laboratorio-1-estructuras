{
  "cells": [
    {
      "cell_type": "code",
      "source": "a = \"Casa En Arriendo En Chia Chia Cod. AINH2992\"\na.find(\"Cod.\")\na[(a.find(\"Cod.\") + 5):]",
      "metadata": {
        "source_hash": null,
        "execution_start": 1694451922694,
        "execution_millis": 14,
        "deepnote_to_be_reexecuted": false,
        "cell_id": "dd707ede0ea04795a0628343e7823bbf",
        "deepnote_cell_type": "code"
      },
      "outputs": [
        {
          "output_type": "execute_result",
          "execution_count": 1,
          "data": {
            "text/plain": "'AINH2992'"
          },
          "metadata": {}
        }
      ],
      "execution_count": null,
      "block_group": "dd707ede0ea04795a0628343e7823bbf"
    },
    {
      "cell_type": "code",
      "source": "b = [1, 2, 3]\nc = [*b, 4]\nc",
      "metadata": {
        "source_hash": null,
        "execution_start": 1694479369084,
        "execution_millis": 22,
        "deepnote_to_be_reexecuted": false,
        "cell_id": "b94a27f95ab8420c9a7baed5e4471249",
        "deepnote_cell_type": "code"
      },
      "outputs": [
        {
          "output_type": "execute_result",
          "execution_count": 1,
          "data": {
            "text/plain": "[1, 2, 3, 4]"
          },
          "metadata": {}
        }
      ],
      "execution_count": null,
      "block_group": "b94a27f95ab8420c9a7baed5e4471249"
    },
    {
      "cell_type": "code",
      "source": "pila = [1,2,3,4]\nwhile pila:\n    element = pila.pop()\n    print(element)",
      "metadata": {
        "source_hash": null,
        "execution_start": 1694484404092,
        "execution_millis": 64,
        "deepnote_to_be_reexecuted": false,
        "cell_id": "cc48388c564f4cd5ab5a9ba0d46a4c5b",
        "deepnote_cell_type": "code"
      },
      "outputs": [
        {
          "name": "stdout",
          "text": "4\n3\n2\n1\n",
          "output_type": "stream"
        }
      ],
      "execution_count": null,
      "block_group": "cc48388c564f4cd5ab5a9ba0d46a4c5b"
    },
    {
      "cell_type": "code",
      "source": "class Hola:\n    name: str\n\n    def __init__(self):\n        self.name = \"Jesús\"\n\nhola = Hola()\nv = \"name\"\n\nhola[v]\ngetattr(hola, v)",
      "metadata": {
        "source_hash": null,
        "execution_start": 1694485229714,
        "execution_millis": 14,
        "deepnote_to_be_reexecuted": false,
        "cell_id": "7e04fb86b1924755b69410778c4217eb",
        "deepnote_cell_type": "code"
      },
      "outputs": [
        {
          "output_type": "error",
          "ename": "TypeError",
          "evalue": "'Hola' object is not subscriptable",
          "traceback": [
            "\u001b[0;31m---------------------------------------------------------------------------\u001b[0m",
            "\u001b[0;31mTypeError\u001b[0m                                 Traceback (most recent call last)",
            "Cell \u001b[0;32mIn [10], line 10\u001b[0m\n\u001b[1;32m      7\u001b[0m hola \u001b[38;5;241m=\u001b[39m Hola()\n\u001b[1;32m      8\u001b[0m v \u001b[38;5;241m=\u001b[39m \u001b[38;5;124m\"\u001b[39m\u001b[38;5;124mname\u001b[39m\u001b[38;5;124m\"\u001b[39m\n\u001b[0;32m---> 10\u001b[0m \u001b[43mhola\u001b[49m\u001b[43m[\u001b[49m\u001b[43mv\u001b[49m\u001b[43m]\u001b[49m\n\u001b[1;32m     11\u001b[0m \u001b[38;5;28mgetattr\u001b[39m(hola, v)\n",
            "\u001b[0;31mTypeError\u001b[0m: 'Hola' object is not subscriptable"
          ]
        }
      ],
      "execution_count": null,
      "block_group": "7e04fb86b1924755b69410778c4217eb"
    },
    {
      "cell_type": "code",
      "source": "def nodos (self, campo:str,operacion:operacion,valor:any,root:Node):\n        pila = []\n        nodo_actual = raiz\n        nodos=[]\n        while pila or nodo_actual:\n            if nodo_actual:\n                lista_de_atributos = [atributo for atributo in dir(nodo_actual.data) if not atributo.startswith(\"__\")]\n                for prop in lista_de_atributos:\n                        if prop==campo:\n                            valor_del_atributo = getattr(nodo_actual.data, prop)\n                            if operacion == \"=\":\n                                if operaciones[\"=\"](valor,str(valor_del_atributo)) == True:\n                                #guardamos el nodo\n                                    nodos.append(nodo_actual)\n                            else :\n                                if operaciones[operacion](int(valor),valor_del_atributo)==True:\n                                #guardamos el nodo\n                                    C1.append(nodo_actual)\n                pila.append(nodo_actual)\n                nodo_actual = nodo_actual.left\n            else:\n                nodo_actual = pila.pop()\n                nodo_actual = nodo_actual.right\n        return C1",
      "metadata": {
        "source_hash": null,
        "execution_start": 1694532562081,
        "execution_millis": 432,
        "deepnote_to_be_reexecuted": false,
        "cell_id": "76664a1a4355416b9b5eff558c1768c3",
        "deepnote_cell_type": "code"
      },
      "outputs": [
        {
          "output_type": "error",
          "ename": "NameError",
          "evalue": "name 'operacion' is not defined",
          "traceback": [
            "\u001b[0;31m---------------------------------------------------------------------------\u001b[0m",
            "\u001b[0;31mNameError\u001b[0m                                 Traceback (most recent call last)",
            "Cell \u001b[0;32mIn [6], line 1\u001b[0m\n\u001b[0;32m----> 1\u001b[0m \u001b[38;5;28;01mdef\u001b[39;00m \u001b[38;5;21mnodos\u001b[39m (\u001b[38;5;28mself\u001b[39m, campo:\u001b[38;5;28mstr\u001b[39m,operacion:\u001b[43moperacion\u001b[49m,valor:\u001b[38;5;28many\u001b[39m,root:Node):\n\u001b[1;32m      2\u001b[0m         pila \u001b[38;5;241m=\u001b[39m []\n\u001b[1;32m      3\u001b[0m         nodo_actual \u001b[38;5;241m=\u001b[39m raiz\n",
            "\u001b[0;31mNameError\u001b[0m: name 'operacion' is not defined"
          ]
        }
      ],
      "execution_count": null,
      "block_group": "76664a1a4355416b9b5eff558c1768c3"
    },
    {
      "cell_type": "code",
      "source": "A=10\nB=\"10\"\nif A==float(B):\n    print(\"son iguales\")",
      "metadata": {
        "source_hash": null,
        "execution_start": 1694532428422,
        "execution_millis": 16,
        "deepnote_to_be_reexecuted": false,
        "cell_id": "a9b432016baf4a39898c8b88ee5a3df9",
        "deepnote_cell_type": "code"
      },
      "outputs": [
        {
          "name": "stdout",
          "text": "son iguales\n",
          "output_type": "stream"
        }
      ],
      "execution_count": null,
      "block_group": "a9b432016baf4a39898c8b88ee5a3df9"
    },
    {
      "cell_type": "code",
      "source": "a = Stack()",
      "metadata": {
        "cell_id": "fd1f71139e984c0ab592dcb5c5c0d06c",
        "deepnote_cell_type": "code"
      },
      "outputs": [],
      "execution_count": null,
      "block_group": "fd1f71139e984c0ab592dcb5c5c0d06c"
    },
    {
      "cell_type": "code",
      "source": "a = 20.234 / 33\nb = 20.234 / 33\nprint(a)\nif a == b:\n    print(\"hola\")",
      "metadata": {
        "source_hash": null,
        "execution_start": 1694922520747,
        "execution_millis": 20,
        "deepnote_to_be_reexecuted": false,
        "cell_id": "718a24724def42aea823f9140fe59d99",
        "deepnote_cell_type": "code"
      },
      "outputs": [
        {
          "name": "stdout",
          "text": "0.6131515151515152\nhola\n",
          "output_type": "stream"
        }
      ],
      "execution_count": null,
      "block_group": "fc6a9bd498fc4f379cab84e6e8275383"
    },
    {
      "cell_type": "markdown",
      "source": "<a style='text-decoration:none;line-height:16px;display:flex;color:#5B5B62;padding:10px;justify-content:end;' href='https://deepnote.com?utm_source=created-in-deepnote-cell&projectId=5a6aa858-3dd7-43be-98c5-49e544ecec34' target=\"_blank\">\n<img alt='Created in deepnote.com' style='display:inline;max-height:16px;margin:0px;margin-right:7.5px;' src='data:image/svg+xml;base64,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' > </img>\nCreated in <span style='font-weight:600;margin-left:4px;'>Deepnote</span></a>",
      "metadata": {
        "created_in_deepnote_cell": true,
        "deepnote_cell_type": "markdown"
      }
    }
  ],
  "nbformat": 4,
  "nbformat_minor": 0,
  "metadata": {
    "deepnote": {},
    "orig_nbformat": 2,
    "deepnote_notebook_id": "dea72121201047d5b15e35f5bde1f71b",
    "deepnote_persisted_session": {
      "createdAt": "2023-09-17T04:16:31.476Z"
    },
    "deepnote_execution_queue": []
  }
}