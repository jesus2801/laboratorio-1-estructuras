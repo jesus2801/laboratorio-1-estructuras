{
  "cells": [
    {
      "cell_type": "markdown",
      "source": "## Initialization Notebook\nThis is your initialization notebook.\n\n**What's this for?**\n\nYou can put custom code you want us to run every time we setup your environment in here. \n\n**Awesome! Anything I should not put in here?**\n\nPlease don't install `jupyter` or `jedi` packages, they would break your Deepnote environment. Also, no need to put `!pip install`s here, we already save those automatically!\n\n**I want to learn more!**\n\nGreat! Just [head over to our docs](https://deepnote.com/docs/custom-initialization).",
      "metadata": {
        "cell_id": "fd8df222853b41de97f38aa5c10c2521",
        "deepnote_cell_type": "markdown"
      },
      "block_group": "fd8df222853b41de97f38aa5c10c2521"
    },
    {
      "cell_type": "code",
      "source": "# ante de ejecutar el archivo, por favor ejecutar esto en consola:\n!sudo apt update\n!sudo apt-get -y install graphviz libgraphviz-dev pkg-config\n!pip install graphviz\n!pip install --force-reinstall pygraphviz",
      "metadata": {
        "source_hash": null,
        "execution_start": 1695341161531,
        "execution_millis": 19883,
        "deepnote_to_be_reexecuted": false,
        "cell_id": "5fbc5a2c3a8c427eb250ae15f1e5044d",
        "deepnote_cell_type": "code"
      },
      "outputs": [
        {
          "name": "stdout",
          "text": "Get:1 http://deb.debian.org/debian buster InRelease [122 kB]\nGet:2 http://deb.debian.org/debian-security buster/updates InRelease [34.8 kB]\nGet:3 http://deb.debian.org/debian buster-updates InRelease [56.6 kB]\nGet:4 http://deb.debian.org/debian buster/main amd64 Packages [7,909 kB]\nGet:5 http://deb.debian.org/debian-security buster/updates/main amd64 Packages [552 kB]\nGet:6 http://deb.debian.org/debian buster-updates/main amd64 Packages [8,788 B]\nFetched 8,683 kB in 3s (3,265 kB/s)\n\n\n\n1 package can be upgraded. Run 'apt list --upgradable' to see it.\n\n\n\ngraphviz is already the newest version (2.40.1-6+deb10u1).\npkg-config is already the newest version (0.29-6).\npkg-config set to manually installed.\nThe following additional packages will be installed:\n  libgvc6-plugins-gtk\nThe following NEW packages will be installed:\n  libgraphviz-dev libgvc6-plugins-gtk\n0 upgraded, 2 newly installed, 0 to remove and 1 not upgraded.\nNeed to get 163 kB of archives.\nAfter this operation, 411 kB of additional disk space will be used.\nGet:1 http://deb.debian.org/debian buster/main amd64 libgvc6-plugins-gtk amd64 2.40.1-6+deb10u1 [62.7 kB]\nGet:2 http://deb.debian.org/debian buster/main amd64 libgraphviz-dev amd64 2.40.1-6+deb10u1 [100 kB]\nFetched 163 kB in 0s (1,327 kB/s)\ndebconf: delaying package configuration, since apt-utils is not installed\nSelecting previously unselected package libgvc6-plugins-gtk.\n(Reading database ... 31091 files and directories currently installed.)\nPreparing to unpack .../libgvc6-plugins-gtk_2.40.1-6+deb10u1_amd64.deb ...\nUnpacking libgvc6-plugins-gtk (2.40.1-6+deb10u1) ...\nSelecting previously unselected package libgraphviz-dev.\nPreparing to unpack .../libgraphviz-dev_2.40.1-6+deb10u1_amd64.deb ...\nUnpacking libgraphviz-dev (2.40.1-6+deb10u1) ...\nSetting up libgvc6-plugins-gtk (2.40.1-6+deb10u1) ...\nSetting up libgraphviz-dev (2.40.1-6+deb10u1) ...\nProcessing triggers for libc-bin (2.28-10+deb10u2) ...\nCollecting graphviz\n  Downloading graphviz-0.20.1-py3-none-any.whl (47 kB)\n\u001b[2K     \u001b[90m━━━━━━━━━━━━━━━━━━━━━━━━━━━━━━━━━━━━━━━━\u001b[0m \u001b[32m47.0/47.0 kB\u001b[0m \u001b[31m7.4 MB/s\u001b[0m eta \u001b[36m0:00:00\u001b[0m\n\u001b[?25hInstalling collected packages: graphviz\nSuccessfully installed graphviz-0.20.1\n\n\u001b[1m[\u001b[0m\u001b[34;49mnotice\u001b[0m\u001b[1;39;49m]\u001b[0m\u001b[39;49m A new release of pip is available: \u001b[0m\u001b[31;49m23.0.1\u001b[0m\u001b[39;49m -> \u001b[0m\u001b[32;49m23.2.1\u001b[0m\n\u001b[1m[\u001b[0m\u001b[34;49mnotice\u001b[0m\u001b[1;39;49m]\u001b[0m\u001b[39;49m To update, run: \u001b[0m\u001b[32;49mpip install --upgrade pip\u001b[0m\nCollecting pygraphviz\n  Downloading pygraphviz-1.11.zip (120 kB)\n\u001b[2K     \u001b[90m━━━━━━━━━━━━━━━━━━━━━━━━━━━━━━━━━━━━━━\u001b[0m \u001b[32m120.8/120.8 kB\u001b[0m \u001b[31m22.9 MB/s\u001b[0m eta \u001b[36m0:00:00\u001b[0m\n\u001b[?25h  Preparing metadata (setup.py) ... \u001b[?25ldone\n\u001b[?25hBuilding wheels for collected packages: pygraphviz\n  Building wheel for pygraphviz (setup.py) ... \u001b[?25ldone\n\u001b[?25h  Created wheel for pygraphviz: filename=pygraphviz-1.11-cp39-cp39-linux_x86_64.whl size=204967 sha256=0aad9004bc98bcf3acd31aee8bb80a807dfb3d8c51d8da43a6b5e763c9fb0021\n  Stored in directory: /root/.cache/pip/wheels/2a/15/84/0cfa4492795c389d89e0c3101f6d42e6201a66869a9c8b576e\nSuccessfully built pygraphviz\nInstalling collected packages: pygraphviz\nSuccessfully installed pygraphviz-1.11\n\n\u001b[1m[\u001b[0m\u001b[34;49mnotice\u001b[0m\u001b[1;39;49m]\u001b[0m\u001b[39;49m A new release of pip is available: \u001b[0m\u001b[31;49m23.0.1\u001b[0m\u001b[39;49m -> \u001b[0m\u001b[32;49m23.2.1\u001b[0m\n\u001b[1m[\u001b[0m\u001b[34;49mnotice\u001b[0m\u001b[1;39;49m]\u001b[0m\u001b[39;49m To update, run: \u001b[0m\u001b[32;49mpip install --upgrade pip\u001b[0m\n",
          "output_type": "stream"
        }
      ],
      "execution_count": null,
      "block_group": "72910e366a1042e999bf959c5d7156fa"
    },
    {
      "cell_type": "code",
      "source": "%%bash\n# If your project has a 'requirements.txt' file, we'll install it here.\nif test -f requirements.txt\n  then\n    pip install -r ./requirements.txt\n  else echo \"There's no requirements.txt, so nothing to install.\"\nfi",
      "metadata": {
        "source_hash": null,
        "execution_start": 1695341181218,
        "execution_millis": 4410,
        "deepnote_to_be_reexecuted": false,
        "cell_id": "1ce11c01750b4044a1d60dffabb393e7",
        "deepnote_cell_type": "code"
      },
      "outputs": [
        {
          "name": "stdout",
          "text": "Requirement already satisfied: requests in /shared-libs/python3.9/py/lib/python3.9/site-packages (from -r ./requirements.txt (line 1)) (2.28.1)\nRequirement already satisfied: Pillow in /shared-libs/python3.9/py/lib/python3.9/site-packages (from -r ./requirements.txt (line 2)) (9.2.0)\nCollecting networkx\n  Downloading networkx-3.1-py3-none-any.whl (2.1 MB)\n     ━━━━━━━━━━━━━━━━━━━━━━━━━━━━━━━━━━━━━━━━ 2.1/2.1 MB 74.9 MB/s eta 0:00:00\nRequirement already satisfied: matplotlib in /shared-libs/python3.9/py/lib/python3.9/site-packages (from -r ./requirements.txt (line 4)) (3.6.0)\nRequirement already satisfied: urllib3<1.27,>=1.21.1 in /shared-libs/python3.9/py/lib/python3.9/site-packages (from requests->-r ./requirements.txt (line 1)) (1.26.12)\nRequirement already satisfied: charset-normalizer<3,>=2 in /shared-libs/python3.9/py-core/lib/python3.9/site-packages (from requests->-r ./requirements.txt (line 1)) (2.1.1)\nRequirement already satisfied: certifi>=2017.4.17 in /shared-libs/python3.9/py/lib/python3.9/site-packages (from requests->-r ./requirements.txt (line 1)) (2022.9.24)\nRequirement already satisfied: idna<4,>=2.5 in /shared-libs/python3.9/py-core/lib/python3.9/site-packages (from requests->-r ./requirements.txt (line 1)) (3.4)\nRequirement already satisfied: kiwisolver>=1.0.1 in /shared-libs/python3.9/py/lib/python3.9/site-packages (from matplotlib->-r ./requirements.txt (line 4)) (1.4.4)\nRequirement already satisfied: numpy>=1.19 in /shared-libs/python3.9/py/lib/python3.9/site-packages (from matplotlib->-r ./requirements.txt (line 4)) (1.23.4)\nRequirement already satisfied: cycler>=0.10 in /shared-libs/python3.9/py/lib/python3.9/site-packages (from matplotlib->-r ./requirements.txt (line 4)) (0.11.0)\nRequirement already satisfied: packaging>=20.0 in /shared-libs/python3.9/py-core/lib/python3.9/site-packages (from matplotlib->-r ./requirements.txt (line 4)) (21.3)\nRequirement already satisfied: python-dateutil>=2.7 in /shared-libs/python3.9/py-core/lib/python3.9/site-packages (from matplotlib->-r ./requirements.txt (line 4)) (2.8.2)\nRequirement already satisfied: pyparsing>=2.2.1 in /shared-libs/python3.9/py-core/lib/python3.9/site-packages (from matplotlib->-r ./requirements.txt (line 4)) (3.0.9)\nRequirement already satisfied: contourpy>=1.0.1 in /shared-libs/python3.9/py/lib/python3.9/site-packages (from matplotlib->-r ./requirements.txt (line 4)) (1.0.5)\nRequirement already satisfied: fonttools>=4.22.0 in /shared-libs/python3.9/py/lib/python3.9/site-packages (from matplotlib->-r ./requirements.txt (line 4)) (4.37.4)\nRequirement already satisfied: six>=1.5 in /shared-libs/python3.9/py-core/lib/python3.9/site-packages (from python-dateutil>=2.7->matplotlib->-r ./requirements.txt (line 4)) (1.16.0)\nInstalling collected packages: networkx\nSuccessfully installed networkx-3.1\n\n[notice] A new release of pip is available: 23.0.1 -> 23.2.1\n[notice] To update, run: pip install --upgrade pip\n",
          "output_type": "stream"
        }
      ],
      "execution_count": null,
      "block_group": "1ce11c01750b4044a1d60dffabb393e7"
    },
    {
      "cell_type": "markdown",
      "source": "<a style='text-decoration:none;line-height:16px;display:flex;color:#5B5B62;padding:10px;justify-content:end;' href='https://deepnote.com?utm_source=created-in-deepnote-cell&projectId=5a6aa858-3dd7-43be-98c5-49e544ecec34' target=\"_blank\">\n<img alt='Created in deepnote.com' style='display:inline;max-height:16px;margin:0px;margin-right:7.5px;' src='data:image/svg+xml;base64,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' > </img>\nCreated in <span style='font-weight:600;margin-left:4px;'>Deepnote</span></a>",
      "metadata": {
        "created_in_deepnote_cell": true,
        "deepnote_cell_type": "markdown"
      }
    }
  ],
  "nbformat": 4,
  "nbformat_minor": 0,
  "metadata": {
    "deepnote": {},
    "orig_nbformat": 2,
    "deepnote_notebook_id": "f516ea5874784ad5995da867bfff9b8c",
    "deepnote_execution_queue": []
  }
}